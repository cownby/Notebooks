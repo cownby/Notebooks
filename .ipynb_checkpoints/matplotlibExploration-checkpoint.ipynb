{
 "cells": [
  {
   "cell_type": "markdown",
   "metadata": {},
   "source": [
    "# Explore Matplotlib\n",
    "\n",
    "http://www.scipy-lectures.org/intro/matplotlib/matplotlib.html\n",
    "\n",
    "%matplotlib:\n",
    "    ::\n",
    "    \n",
    "      %matplotlib [-l] [gui]\n",
    "    \n",
    "    Set up matplotlib to work interactively.\n",
    "    \n",
    "    This function lets you activate matplotlib interactive support\n",
    "    at any point during an IPython session. It does not import anything\n",
    "    into the interactive namespace.\n",
    "    \n",
    "    If you are using the inline matplotlib backend in the IPython Notebook\n",
    "    you can set which figure formats are enabled using the following::\n",
    "    \n",
    "        In [1]: from IPython.display import set_matplotlib_formats\n",
    "    \n",
    "        In [2]: set_matplotlib_formats('pdf', 'svg')\n",
    "    \n",
    "    The default for inline figures sets `bbox_inches` to 'tight'. This can\n",
    "    cause discrepancies between the displayed image and the identical\n",
    "    image created using `savefig`. This behavior can be disabled using the\n",
    "    `%config` magic::\n",
    "    \n",
    "        In [3]: %config InlineBackend.print_figure_kwargs = {'bbox_inches':None}\n",
    "    \n",
    "    In addition, see the docstring of\n",
    "    `IPython.display.set_matplotlib_formats` and\n",
    "    `IPython.display.set_matplotlib_close` for more information on\n",
    "    changing additional behaviors of the inline backend.\n",
    "    \n",
    "    Examples\n",
    "    --------\n",
    "    To enable the inline backend for usage with the IPython Notebook::\n",
    "    \n",
    "        In [1]: %matplotlib inline\n",
    "    \n",
    "    In this case, where the matplotlib default is TkAgg::\n",
    "    \n",
    "        In [2]: %matplotlib\n",
    "        Using matplotlib backend: TkAgg\n",
    "    \n",
    "    But you can explicitly request a different GUI backend::\n",
    "    \n",
    "        In [3]: %matplotlib qt\n",
    "    \n",
    "    You can list the available backends using the -l/--list option::\n",
    "    \n",
    "       In [4]: %matplotlib --list\n",
    "       Available matplotlib backends: ['osx', 'qt4', 'qt5', 'gtk3', 'notebook', 'wx', 'qt', 'nbagg',\n",
    "       'gtk', 'tk', 'inline']\n",
    "    \n",
    "    positional arguments:\n",
    "      gui         Name of the matplotlib backend to use ('gtk', 'gtk3', 'inline',\n",
    "                  'nbagg', 'notebook', 'osx', 'qt', 'qt4', 'qt5', 'tk', 'wx'). If\n",
    "                  given, the corresponding matplotlib backend is used, otherwise\n",
    "                  it will be matplotlib's default (which you can set in your\n",
    "                  matplotlib config file).\n",
    "    \n",
    "    optional arguments:\n",
    "      -l, --list  Show available matplotlib backends\n"
   ]
  },
  {
   "cell_type": "markdown",
   "metadata": {},
   "source": [
    "## Notes\n",
    "* Once you use an interactive GUI toolkit, you cannot use another, regardless of cell. (nbagg, notebook, )\n",
    "* When using the interactive kits, the plots are all munged, whereas the inline toolkit lists them as does the code: i.e., \"inline\""
   ]
  },
  {
   "cell_type": "code",
   "execution_count": null,
   "metadata": {
    "collapsed": true
   },
   "outputs": [],
   "source": [
    "# Generate some data\n",
    "\n",
    "import random\n",
    "listA = random.sample(range(1, 100), 25)\n",
    "listB = random.sample(range(1, 100), 25)\n",
    "listOfMonths = [random.randrange(1,12,1) for _ in range (25)]\n",
    "\n",
    "listOfMonths.sort()"
   ]
  },
  {
   "cell_type": "code",
   "execution_count": null,
   "metadata": {
    "collapsed": false
   },
   "outputs": [],
   "source": [
    "%matplotlib -l"
   ]
  },
  {
   "cell_type": "code",
   "execution_count": null,
   "metadata": {
    "collapsed": true
   },
   "outputs": [],
   "source": [
    "# setup for all cells\n",
    "\n",
    "import matplotlib.pyplot as plt\n",
    "import numpy as np\n"
   ]
  },
  {
   "cell_type": "code",
   "execution_count": null,
   "metadata": {
    "collapsed": false
   },
   "outputs": [],
   "source": [
    "%matplotlib inline\n",
    "\n",
    "#plt.plot(listOfMonths,listA)\n",
    "plt.scatter(listA,listB)\n",
    "plt.show()\n",
    "plt.bar(listOfMonths,listA,color='cyan')\n",
    "plt.show()\n",
    "\n",
    "plt.plot(listOfMonths,listA)\n",
    "#plt.plot(listOfMonths,listB)\n",
    "plt.show()\n",
    "#%pdoc plt.bar"
   ]
  },
  {
   "cell_type": "code",
   "execution_count": null,
   "metadata": {
    "collapsed": false
   },
   "outputs": [],
   "source": [
    "%matplotlib notebook\n",
    "\n",
    "plt.plot(listOfMonths,listA)\n",
    "plt.plot(listOfMonths,listB)\n",
    "plt.show()\n",
    "#%pdoc plt.bar"
   ]
  },
  {
   "cell_type": "code",
   "execution_count": null,
   "metadata": {
    "collapsed": false
   },
   "outputs": [],
   "source": [
    "%matplotlib notebook\n",
    "\n",
    "#http://www.scipy-lectures.org/intro/matplotlib/matplotlib.html\n",
    "\n",
    "\n",
    "# Create a figure of size 8x6 inches, 80 dots per inch\n",
    "plt.figure(figsize=(8, 6), dpi=80)\n",
    "\n",
    "# Create a new subplot from a grid of 1x1\n",
    "plt.subplot(1, 1, 1)\n",
    "\n",
    "X = np.linspace(-np.pi, np.pi, 256, endpoint=True)\n",
    "C, S = np.cos(X), np.sin(X)\n",
    "\n",
    "# Plot cosine with a blue continuous line of width 1 (pixels)\n",
    "plt.plot(X, C, color=\"blue\", linewidth=1.0, linestyle=\"-\")\n",
    "\n",
    "# Plot sine with a green continuous line of width 1 (pixels)\n",
    "plt.plot(X, S, color=\"green\", linewidth=1.0, linestyle=\"-\")\n",
    "\n",
    "# Set x limits\n",
    "plt.xlim(-4.0, 4.0)\n",
    "\n",
    "# Set x ticks\n",
    "plt.xticks(np.linspace(-4, 4, 9, endpoint=True))\n",
    "\n",
    "# Set y limits\n",
    "plt.ylim(-1.0, 1.0)\n",
    "\n",
    "# Set y ticks\n",
    "plt.yticks(np.linspace(-1, 1, 5, endpoint=True))\n",
    "\n",
    "# Save figure using 72 dots per inch\n",
    "# plt.%Rsavefig(\"exercice_2.png\", dpi=72)\n",
    "\n",
    "# Show result on screen\n",
    "plt.show()\n"
   ]
  },
  {
   "cell_type": "code",
   "execution_count": 2,
   "metadata": {
    "collapsed": false
   },
   "outputs": [
    {
     "name": "stderr",
     "output_type": "stream",
     "text": [
      "C:\\Users\\COwnby\\Anaconda2\\lib\\site-packages\\IPython\\extensions\\rmagic.py:11: UserWarning: The rmagic extension in IPython has moved to `rpy2.ipython`, please see `rpy2` documentation.\n",
      "  warnings.warn(\"The rmagic extension in IPython has moved to \"\n",
      "ERROR: Line magic function `%R` not found.\n"
     ]
    }
   ],
   "source": [
    "#from https://blog.dominodatalab.com/lesser-known-ways-of-using-notebooks/\n",
    "%load_ext rmagic\n",
    "%R plot(listOfMonths,listA)"
   ]
  }
 ],
 "metadata": {
  "anaconda-cloud": {},
  "kernelspec": {
   "display_name": "Python [Root]",
   "language": "python",
   "name": "Python [Root]"
  },
  "language_info": {
   "codemirror_mode": {
    "name": "ipython",
    "version": 2
   },
   "file_extension": ".py",
   "mimetype": "text/x-python",
   "name": "python",
   "nbconvert_exporter": "python",
   "pygments_lexer": "ipython2",
   "version": "2.7.12"
  }
 },
 "nbformat": 4,
 "nbformat_minor": 0
}
