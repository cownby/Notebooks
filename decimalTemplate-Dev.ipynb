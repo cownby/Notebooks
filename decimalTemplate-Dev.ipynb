{
 "cells": [
  {
   "cell_type": "markdown",
   "metadata": {},
   "source": [
    "## Sample data investigation notebook\n",
    "aka the *Decimal Project*\n",
    "\n",
    "This notebook is the next step after establishing a Hadoop cluster per this [tutorial] (https://github.com/Archethought/tutorials/blob/master/openstack-decimal-proj/containerized_Hadoop.md)\n"
   ]
  },
  {
   "cell_type": "code",
   "execution_count": 1,
   "metadata": {
    "collapsed": false
   },
   "outputs": [
    {
     "data": {
      "text/plain": [
       "[975, 920, 6, 819, 713]"
      ]
     },
     "execution_count": 1,
     "metadata": {},
     "output_type": "execute_result"
    }
   ],
   "source": [
    "# Basic setup required in all notebooks\n",
    "\n",
    "# Explicitly define python 2 since we have both 2 & 3 installed\n",
    "import os\n",
    "os.environ['PYSPARK_PYTHON'] = '/opt/conda/envs/python2/bin/python'\n",
    "\n",
    "# Establish spark context or session\n",
    "import pyspark\n",
    "sc = pyspark.SparkContext('local[*]') #local spark-master\n",
    "\n",
    "# Establish SparkSQL context so we can use dataframes\n",
    "from pyspark.sql import SQLContext\n",
    "sqlContext = SQLContext(sc)\n",
    "\n",
    "# Snakebite is a python library for HDFS access\n",
    "# See https://snakebite.readthedocs.io/en/latest/\n",
    "from snakebite.client import Client\n",
    "\n",
    "\n",
    "# do something to prove it works\n",
    "rdd = sc.parallelize(range(1000))\n",
    "rdd.takeSample(False, 5)"
   ]
  },
  {
   "cell_type": "code",
   "execution_count": 2,
   "metadata": {
    "collapsed": true
   },
   "outputs": [],
   "source": [
    "# Handy methods\n",
    "\n",
    "def HdfsFileToRDD(pDatafile):\n",
    "    \"\"\"\n",
    "\n",
    "    Args:\n",
    "\n",
    "    Returns:\n",
    "        \n",
    "    \"\"\"\n",
    "    return sc.parallelize(client.text([pDatafile]))\n",
    "\n",
    "\n",
    "def prSomeRDD(inputRDD,howMany,msg=None):\n",
    "    \"\"\"\n",
    "\n",
    "    Args:\n",
    "\n",
    "    Returns:\n",
    "        \n",
    "    \"\"\"\n",
    "    print msg\n",
    "    for x in inputRDD.take(howMany):\n",
    "        print x    \n",
    "#take(): inputRDD.take(100).foreach(println)"
   ]
  },
  {
   "cell_type": "code",
   "execution_count": 3,
   "metadata": {
    "collapsed": false
   },
   "outputs": [],
   "source": [
    "# Define HDFS access \n",
    "client = Client(\"172.18.0.4\", 9000 , use_trash=False, effective_user=\"root\")\n",
    "#help(client)"
   ]
  },
  {
   "cell_type": "code",
   "execution_count": 5,
   "metadata": {
    "collapsed": false
   },
   "outputs": [],
   "source": [
    "# Define the datafile and establish access\n",
    "\n",
    "datafileHDFS = r'/user/root/testData/fotd.csv'\n",
    "dataRDD = HdfsFileToRDD(datafileHDFS)"
   ]
  },
  {
   "cell_type": "code",
   "execution_count": 4,
   "metadata": {
    "collapsed": false
   },
   "outputs": [
    {
     "ename": "SyntaxError",
     "evalue": "invalid syntax (<ipython-input-4-f9ef205a8f26>, line 1)",
     "output_type": "error",
     "traceback": [
      "\u001b[1;36m  File \u001b[1;32m\"<ipython-input-4-f9ef205a8f26>\"\u001b[1;36m, line \u001b[1;32m1\u001b[0m\n\u001b[1;33m    stop here\u001b[0m\n\u001b[1;37m            ^\u001b[0m\n\u001b[1;31mSyntaxError\u001b[0m\u001b[1;31m:\u001b[0m invalid syntax\n"
     ]
    }
   ],
   "source": [
    "stop here"
   ]
  },
  {
   "cell_type": "code",
   "execution_count": null,
   "metadata": {
    "collapsed": false
   },
   "outputs": [],
   "source": [
    "# dataGEN is a generator with 1 item: the entire file. Only the first access returns data.\n",
    "# What can we do with the file handle?\n",
    "dataGEN = client.text([datafile])\n",
    "print type(dataGEN)\n",
    "help(dataGEN)"
   ]
  },
  {
   "cell_type": "code",
   "execution_count": null,
   "metadata": {
    "collapsed": false
   },
   "outputs": [],
   "source": [
    "def CatNGenerator(g):\n",
    "    i = 0\n",
    "    for line in g:\n",
    "        print 'line {0}: {1} '.format(i,line)\n",
    "        i =+1\n",
    "\n",
    "def GeneratorToList(g):\n",
    "    return_list =[]\n",
    "    for line in g:\n",
    "        return_list.append(line)\n",
    "    return return_list\n",
    "\n",
    "#CatNGenerator(dataGEN)\n",
    "dataList = GeneratorToList(dataGEN)"
   ]
  },
  {
   "cell_type": "code",
   "execution_count": null,
   "metadata": {
    "collapsed": false
   },
   "outputs": [],
   "source": [
    "print len(dataList)\n",
    "print dataList"
   ]
  },
  {
   "cell_type": "code",
   "execution_count": 11,
   "metadata": {
    "collapsed": false
   },
   "outputs": [
    {
     "name": "stdout",
     "output_type": "stream",
     "text": [
      "dataRDD:  <class 'pyspark.rdd.RDD'> 16 1 ParallelCollectionRDD[3] at parallelize at PythonRDD.scala:423\n",
      "ParallelCollectionRDD[3] at parallelize at PythonRDD.scala:423\n"
     ]
    },
    {
     "data": {
      "text/plain": [
       "['sheet,Date,Event,Lesson,attendees_reg,attendees_student,attendees_special,attendees_board,addendees_free,addendees_coupon,addendees_comp,fee_reg,fee_student,fee_special,fee_board,donations,caller,band\\r\\n4/16/2016,4/16/2016,Contra Dance Financial Worksheet,-1,37,11,0,4,6,0,6,$9.00,$5.00,$8.00,$9.00,$37.00,Patricia Dancen,Steam\\r\\n4/2/2016,4/2/2016,Contra Dance Financial Worksheet,0,41,6,0,3,2,2,5,$9.00,$5.00,$8.00,$9.00,$61.00,Duffy Boyle,Balance & Swing\\r\\n3/19/2016,3/19/2016,Contra Dance Financial Worksheet,0,56,6,1,4,0,5,5,$9.00,$5.00,$8.00,$9.00,$78.00,Sam Smith,John Reading/Josey Toney\\r\\n3-5-16  Special,3/5/2016,Contra Dance Financial Worksheet,0,132,10,1,4,0,2,10,$9.00,$5.00,$8.00,$9.00,$81.00,Paul Somlo,Nova\\r\\n2/20/2016,2/20/2016,Contra Dance Financial Worksheet,0,49,8,1,3,0,5,9,$9.00,$5.00,$8.00,$9.00,$41.00,Rick Smith,Prairie Dog Picnic\\r\\n2/6/2016,2/6/2016,Contra Dance Financial Worksheet,0,52,9,1,3,2,3,3,$9.00,$5.00,$8.00,$9.00,$21.00,Ed Hall,Purple Zephyr\\r\\n1/16/2016,1/16/2016,Contra Dance Financial Worksheet,0,56,7,1,3,0,0,10,$9.00,$5.00,$8.00,$9.00,$8.00,Rick Smith,Jon Sousa & Andy Reiner\\r\\n12/31/2015,12/31/2015,NYE Contra Dance Financial Worksheet,0,122,3,1,3,1,2,7,$9.00,$5.00,$8.00,$9.00,$71.00,Tina Fields,Eileen Nicholson\\r\\n12/19/2015,12/19/2015,Contra Dance Financial Worksheet,0,41,1,0,4,2,2,8,$9.00,$5.00,$8.00,$9.00,$13.00,Peter Johnston,Avourneen\\r\\n12/5/2015,12/5/2015,Contra Dance Financial Worksheet,0,39,3,0,2,0,3,6,$9.00,$5.00,$8.00,$9.00,$39.00,Sam Smith / Paul Somlo,The Offbeats\\r\\n11-21-15 Special,11/21/2015,Contra Dance Financial Worksheet,0,90,11,0,4,0,3,6,$9.00,$5.00,$8.00,$9.00,$41.00,Buddy System,CFOOTMAD\\r\\n11/7/2015,11/7/2015,Contra Dance Financial Worksheet,0,36,14,0,2,0,4,4,$9.00,$5.00,$8.00,$9.00,$30.00,Helle Hill,Falcon Flight\\r\\n10/31/2015,10/31/2015,Contra Dance Financial Worksheet,0,43,6,0,4,0,1,9,$9.00,$5.00,$8.00,$9.00,$25.00,Patricia Danscen,New Rhythm Rangers\\r\\n10/17/2015,10/17/2015,Contra Dance Financial Worksheet,0,51,16,0,2,0,1,6,$9.00,$5.00,$8.00,$9.00,$55.00,Paul Somlo/Sam Smith,John Reading & Josey Toney\\r\\n10-3-15 Special,10/3/2015,Contra Dance Financial Worksheet,0,113,26,0,2,0,3,4,$9.00,$5.00,$8.00,$9.00,$15.00,Rick Smith,Great Bear Duo\\r\\n9/19/2015,9/19/2015,Contra Dance Financial Worksheet,0,35,3,0,2,1,0,3,$9.00,$5.00,$8.00,$9.00,$12.00,Christa Torrens,Ragged Edge\\r\\n9/5/2015,9/5/2015,Contra Dance Financial Worksheet,0,49,8,0,1,0,2,7,$9.00,$5.00,$8.00,$9.00,$28.00,Tina Fields,Eric & Rodney\\r\\n8/29/2015,8/29/2015,Contra Dance Financial Worksheet,0,41,4,0,2,0,1,3,$9.00,$5.00,$8.00,$9.00,$17.00,Ed Hall,Purple Zypher\\r\\n8/15/2015,8/15/2015,Contra Dance Financial Worksheet,0,30,5,0,3,0,7,4,$9.00,$5.00,$8.00,$9.00,$26.00,Helle Hill,Java Mando\\r\\n8/1/2015,8/1/2015,Contra Dance Financial Worksheet,0,47,3,0,3,0,2,8,$9.00,$5.00,$8.00,$9.00,$34.00,Rick Smith,Rodney Sauer & Josie Toney\\r\\n7/18/2015,7/18/2015,Contra Dance Financial Worksheet,0,43,8,0,3,3,2,6,$9.00,$5.00,$8.00,$9.00,$17.00,Paul Somlo & Sam Smith,Rodney Sauer + 2 Friends\\r\\n6/20/2015,6/20/2015,Contra Dance Financial Worksheet,0,0,48,4,0,0,2,2,100,$9.00,$5.00,,$461.00,Randy Lumb,Patricia Danscen\\r\\n6/6/2015,6/6/2015,Contra Dance Financial Worksheet,0,48,25,1,3,0,1,7,$9.00,$5.00,$8.00,$9.00,$29.00,Paul Somlo,Stringfire\\r\\n5/30/2015,5/30/2015,Contra Dance Financial Worksheet,0,37,3,0,3,0,3,8,$9.00,$5.00,$8.00,$9.00,$20.00,Carol Fey,New Rhythm Rangers\\r\\n5/16/2015,5/16/2015,Contra Dance Financial Worksheet,0,34,14,0,1,0,1,4,$9.00,$5.00,$8.00,$9.00,$20.00,Christa Torrens,Balance & Swing\\r\\n5/2/2015,5/2/2015,Contra Dance Financial Worksheet,0,0,85,26,4,0,5,0,0,$12.00,$6.00,0,\"$1,224.00\",Vikki Lawrence,Latter Day Lizards\\r\\n4-25-15 Waltz,4/25/2015,Contra Dance Financial Worksheet,0,57,10,0,1,0,0,0,$10.00,$5.00,$0.00,$10.00,$50.00,Purple Zypher,Office Max copy center\\r\\n4/18/2015,4/18/2015,Contra Dance Financial Worksheet,0,47,12,0,3,0,4,7,$9.00,$5.00,$8.00,$9.00,$13.00,Tina Fields,Eric Levine & Rodney Sauer\\r\\n4/4/2015,4/4/2015,Contra Dance Financial Worksheet,0,42,24,0,1,1,3,7,$9.00,$5.00,$8.00,$9.00,$13.00,Carol Fey,The A-1 Contraband\\r\\n3/21/2015,3/21/2015,Contra Dance Financial Worksheet,0,55,7,0,3,2,2,7,$9.00,$5.00,$8.00,$9.00,$60.00,Christa Torrens,Falcon Flight\\r\\n3/7/2015,3/7/2015,Contra Dance Financial Worksheet,0,60,34,1,3,0,12,7,$9.00,$5.00,$8.00,$9.00,$17.00,Paul Somlo,John Reading/Joel Hayes/Ed Secor\\r\\n2-28-15 Waltz,2/28/2015,Contra Dance Financial Worksheet,0,73,21,0,3,0,0,0,$10.00,$5.00,$0.00,$10.00,$35.00,Rodney Sauer,Office Max paper & toner  $14 + $31\\r\\n2/21/2015,2/21/2015,Contra Dance Financial Worksheet,0,18,7,0,2,0,1,4,$9.00,$5.00,$8.00,$9.00,$23.00,Christa Torrens,Eric Levine & Ben Cohen\\r\\n2/7/2015,2/7/2015,Contra Dance Financial Worksheet,0,52,38,0,4,4,7,6,$9.00,,,,$15.00,Ed Hall,Purple Zypher\\r\\n1/31/2015,1/31/2015,Contra Dance Financial Worksheet,0,65,46,0,2,0,5,11,$9.00,$5.00,$8.00,$9.00,$32.00,Pat Danscen,Ragged Edge\\r\\n1/17/2015,1/17/2015,Contra Dance Financial Worksheet,0,64,8,1,3,3,1,8,$9.00,$5.00,$8.00,$9.00,$27.00,Viki Lawrence,Andy Reiner & Jon Sousa\\r\\n12-31-14 NYE,31/12/2014,Contra Dance Financial Worksheet,0,82,2,1,3,0,0,6,$13.00,$6.00,$12.00,$13.00,$101.00,Susan Petrick,Ben Schreiber & Scotty Leach\\r\\n12-25-14 Holidance,25/12/2014,Contra Dance Financial Worksheet,0,25,0,0,1,0,1,7,$10.00,$5.00,$9.00,$10.00,$98.00,Vikki Lawrence & Ed Hall,Eric Levine & Ben Cohen\\r\\n12/20/2014,20/12/2014,Contra Dance Financial Worksheet,0,48,3,0,4,0,4,7,$9.00,$5.00,$8.00,$9.00,$20.00,Helle Hill,Traditional Blend\\r\\n12/6/2014,6/12/2014,Contra Dance Financial Worksheet,0,39,0,0,5,0,2,7,$9.00,$5.00,$8.00,$9.00,$24.00,Tina Fields,Louisville Sluggards\\r\\n11/29/2014,29/11/2014,Contra Dance Financial Worksheet,0,49,4,1,3,0,4,6,$9.00,$5.00,$8.00,$9.00,$28.00,Rick Smith,New Rhythm Rangers\\r\\n11-22-14 Waltz,22/11/2014,Contra Dance Financial Worksheet,0,108,15,0,0,0,0,0,$10.00,$5.00,$9.00,$10.00,$0.00,Rodney Sauer & ?,Office Max paper & toner  $14 + $30\\r\\n11/15/2014,15/11/2014,Contra Dance Financial Worksheet,0,43,10,0,4,1,3,7,$9.00,$5.00,$8.00,$9.00,$35.00,Paul Somlo,Contintenal Drift\\r\\n11/1/2014,1/11/2014,Contra Dance Financial Worksheet,0,64,12,0,1,0,3,10,$9.00,$5.00,$8.00,$9.00,$40.00,Christa Torrens,Rodney Sauer & Elizabeth Wood\\r\\n10/18/2014,18/10/2014,Contra Dance Financial Worksheet,0,60,11,0,4,0,3,0,$9.00,$5.00,$8.00,$9.00,$29.00,Rachel Shapiro,Dueling Whiskey Factor\\r\\n10-11-14 WALTZ,11/10/2014,Contra Dance Financial Worksheet,0,55,23,0,2,0,0,0,$10.00,$5.00,$9.00,$10.00,$27.00,Balance & Swing,Pixels & Press\\r\\n10-4-14 Special contra,4/10/2014,Contra Dance Financial Worksheet,0,101,15,1,2,0,4,0,$15.00,$7.00,$14.00,$15.00,$40.00,Nils Fredland (paid with band),Elixir\\r\\n9/20/2014,20/09/2014,Contra Dance Financial Worksheet,0,60,9,1,3,0,1,0,$9.00,$5.00,$8.00,$9.00,$39.00,Patricia Danscen,Contraband / Tim Macomber\\r\\n9/6/2014,6/9/2014,Contra Dance Financial Worksheet,0,46,6,1,2,0,0,0,$9.00,$5.00,$8.00,$9.00,$20.00,Viki Lawrence,Balance & Swing\\r\\n8/30/2014,30/08/2014,Contra Dance Financial Worksheet,0,65,10,0,2,2,5,0,$9.00,$5.00,$8.00,$9.00,$48.00,Rick Smith,Eric Levine & Rodney Sauer\\r\\n8/16/2014,16/08/2014,Contra Dance Financial Worksheet,0,45,1,0,4,0,3,0,$9.00,$5.00,$8.00,$9.00,$42.00,Patricia Danscen,Betsy Branch & Sue Songer\\r\\n8/2/2014,2/8/2014,Contra Dance Financial Worksheet,0,54,10,0,2,0,3,0,$9.00,$5.00,$8.00,$9.00,$47.00,Carol Fey,Grouchy Geezers\\r\\n7/19/2014,19/07/2014,Contra Dance Financial Worksheet,0,63,3,1,3,0,6,0,$9.00,$5.00,$8.00,$9.00,$61.00,Jean Gibson-Gorrindo,Celtic Spring\\r\\n7/5/2014,5/7/2014,Contra Dance Financial Worksheet,0,51,10,1,3,0,1,0,$9.00,$5.00,$8.00,$9.00,$57.00,Tina Fields,Rock It\\r\\n6/21/2014,21/06/2014,Contra Dance Financial Worksheet,0,54,5,0,5,0,0,0,$9.00,$5.00,$8.00,$9.00,$15.00,Helle Hille,Rodney & Sandra Wong\\r\\n6/7/2014,7/6/2014,Contra Dance Financial Worksheet,0,53,8,1,4,0,1,0,$9.00,$5.00,$8.00,$9.00,$34.00,Ed Hall,Purple Zephyr\\r\\n5/31/2014,31/05/2014,Contra Dance Financial Worksheet,0,59,6,1,3,1,3,0,$9.00,$5.00,$8.00,$9.00,$43.00,Paul Somlo,Ragged Edge\\r\\n5/17/2014,17/05/2014,Contra Dance Financial Worksheet,0,51,1,0,4,1,5,0,$9.00,$5.00,$8.00,$9.00,$21.00,Rick Smith,New Rhythm Rangers\\r\\n5/3/2014,3/5/2014,Contra Dance Financial Worksheet,0,71,3,1,3,0,5,0,$9.00,$5.00,$8.00,$9.00,$27.00,Viki Lawrence,Andy Reiner & Jon Sousa\\r\\n4-19-14 SPECIAL,19/04/2014,Contra Dance Financial Worksheet,0,73,6,1,2,0,2,0,$15.00,$7.00,$14.00,$15.00,\"$1,167.00\",Rick Smith,Party of Three\\r\\n4/5/2014,5/4/2014,Contra Dance Financial Worksheet,0,41,8,1,3,0,1,0,$9.00,$5.00,$8.00,$9.00,$27.00,Viki Lawrence,Tonal Vision\\r\\n3/29/2014,29/03/2014,Contra Dance Financial Worksheet,0,45,6,0,4,0,2,0,$9.00,$5.00,$8.00,$9.00,$19.00,Helle Hill,Delicate Balance\\r\\n3/15/2014,15/03/2014,Contra Dance Financial Worksheet,0,55,9,0,3,0,3,14,$9.00,$5.00,$8.00,$9.00,$43.00,Tina Fields,Grouchy Geezers\\r\\n3/1/2014,1/3/2014,Contra Dance Financial Worksheet,0,44,3,1,2,1,3,9,$9.00,$5.00,$8.00,$9.00,$42.00,Paul Somlo,Andy Reiner & Friend\\r\\n2/15/2014,15/02/2014,Contra Dance Financial Worksheet,0,75,13,0,3,1,1,10,$9.00,$5.00,$8.00,$9.00,$12.00,Viki Lawrence,Elizabeth Wood and Rodney Sauer\\r\\n2/1/2014,1/2/2014,Contra Dance Financial Worksheet,0,55,4,1,4,1,3,6,$9.00,$5.00,$8.00,$9.00,$34.00,Ed Hall,Purple Zephyr\\r\\n1/18/2014,18/01/2014,Contra Dance Financial Worksheet,0,79,9,1,2,3,5,6,$9.00,$5.00,$8.00,$9.00,$23.00,Rick Smith,Avenue X']"
      ]
     },
     "execution_count": 11,
     "metadata": {},
     "output_type": "execute_result"
    }
   ],
   "source": [
    "#dataRDD = (sc.parallelize(client.text([pDatafile]))    .\n",
    "\n",
    "print \"dataRDD: \",type(dataRDD), dataRDD.getNumPartitions(),dataRDD.count(), dataRDD\n",
    "print dataRDD\n",
    "dataRDD.take(1) #works\n",
    "#prSomeRDD(dataRDD,1) #loop thru elements - works\n",
    "#help(dataRDD)"
   ]
  },
  {
   "cell_type": "code",
   "execution_count": 13,
   "metadata": {
    "collapsed": false
   },
   "outputs": [
    {
     "name": "stdout",
     "output_type": "stream",
     "text": [
      "<class 'pyspark.rdd.PipelinedRDD'> PythonRDD[23] at RDD at PythonRDD.scala:43\n",
      "1\n",
      "None\n",
      "['sheet,Date,Event,Lesson,attendees_reg,attendees_student,attendees_special,attendees_board,addendees_free,addendees_coupon,addendees_comp,fee_reg,fee_student,fee_special,fee_board,donations,caller,band', '4/16/2016,4/16/2016,Contra Dance Financial Worksheet,-1,37,11,0,4,6,0,6,$9.00,$5.00,$8.00,$9.00,$37.00,Patricia Dancen,Steam', '4/2/2016,4/2/2016,Contra Dance Financial Worksheet,0,41,6,0,3,2,2,5,$9.00,$5.00,$8.00,$9.00,$61.00,Duffy Boyle,Balance & Swing', '3/19/2016,3/19/2016,Contra Dance Financial Worksheet,0,56,6,1,4,0,5,5,$9.00,$5.00,$8.00,$9.00,$78.00,Sam Smith,John Reading/Josey Toney', '3-5-16  Special,3/5/2016,Contra Dance Financial Worksheet,0,132,10,1,4,0,2,10,$9.00,$5.00,$8.00,$9.00,$81.00,Paul Somlo,Nova', '2/20/2016,2/20/2016,Contra Dance Financial Worksheet,0,49,8,1,3,0,5,9,$9.00,$5.00,$8.00,$9.00,$41.00,Rick Smith,Prairie Dog Picnic', '2/6/2016,2/6/2016,Contra Dance Financial Worksheet,0,52,9,1,3,2,3,3,$9.00,$5.00,$8.00,$9.00,$21.00,Ed Hall,Purple Zephyr', '1/16/2016,1/16/2016,Contra Dance Financial Worksheet,0,56,7,1,3,0,0,10,$9.00,$5.00,$8.00,$9.00,$8.00,Rick Smith,Jon Sousa & Andy Reiner', '12/31/2015,12/31/2015,NYE Contra Dance Financial Worksheet,0,122,3,1,3,1,2,7,$9.00,$5.00,$8.00,$9.00,$71.00,Tina Fields,Eileen Nicholson', '12/19/2015,12/19/2015,Contra Dance Financial Worksheet,0,41,1,0,4,2,2,8,$9.00,$5.00,$8.00,$9.00,$13.00,Peter Johnston,Avourneen', '12/5/2015,12/5/2015,Contra Dance Financial Worksheet,0,39,3,0,2,0,3,6,$9.00,$5.00,$8.00,$9.00,$39.00,Sam Smith / Paul Somlo,The Offbeats', '11-21-15 Special,11/21/2015,Contra Dance Financial Worksheet,0,90,11,0,4,0,3,6,$9.00,$5.00,$8.00,$9.00,$41.00,Buddy System,CFOOTMAD', '11/7/2015,11/7/2015,Contra Dance Financial Worksheet,0,36,14,0,2,0,4,4,$9.00,$5.00,$8.00,$9.00,$30.00,Helle Hill,Falcon Flight', '10/31/2015,10/31/2015,Contra Dance Financial Worksheet,0,43,6,0,4,0,1,9,$9.00,$5.00,$8.00,$9.00,$25.00,Patricia Danscen,New Rhythm Rangers', '10/17/2015,10/17/2015,Contra Dance Financial Worksheet,0,51,16,0,2,0,1,6,$9.00,$5.00,$8.00,$9.00,$55.00,Paul Somlo/Sam Smith,John Reading & Josey Toney', '10-3-15 Special,10/3/2015,Contra Dance Financial Worksheet,0,113,26,0,2,0,3,4,$9.00,$5.00,$8.00,$9.00,$15.00,Rick Smith,Great Bear Duo', '9/19/2015,9/19/2015,Contra Dance Financial Worksheet,0,35,3,0,2,1,0,3,$9.00,$5.00,$8.00,$9.00,$12.00,Christa Torrens,Ragged Edge', '9/5/2015,9/5/2015,Contra Dance Financial Worksheet,0,49,8,0,1,0,2,7,$9.00,$5.00,$8.00,$9.00,$28.00,Tina Fields,Eric & Rodney', '8/29/2015,8/29/2015,Contra Dance Financial Worksheet,0,41,4,0,2,0,1,3,$9.00,$5.00,$8.00,$9.00,$17.00,Ed Hall,Purple Zypher', '8/15/2015,8/15/2015,Contra Dance Financial Worksheet,0,30,5,0,3,0,7,4,$9.00,$5.00,$8.00,$9.00,$26.00,Helle Hill,Java Mando', '8/1/2015,8/1/2015,Contra Dance Financial Worksheet,0,47,3,0,3,0,2,8,$9.00,$5.00,$8.00,$9.00,$34.00,Rick Smith,Rodney Sauer & Josie Toney', '7/18/2015,7/18/2015,Contra Dance Financial Worksheet,0,43,8,0,3,3,2,6,$9.00,$5.00,$8.00,$9.00,$17.00,Paul Somlo & Sam Smith,Rodney Sauer + 2 Friends', '6/20/2015,6/20/2015,Contra Dance Financial Worksheet,0,0,48,4,0,0,2,2,100,$9.00,$5.00,,$461.00,Randy Lumb,Patricia Danscen', '6/6/2015,6/6/2015,Contra Dance Financial Worksheet,0,48,25,1,3,0,1,7,$9.00,$5.00,$8.00,$9.00,$29.00,Paul Somlo,Stringfire', '5/30/2015,5/30/2015,Contra Dance Financial Worksheet,0,37,3,0,3,0,3,8,$9.00,$5.00,$8.00,$9.00,$20.00,Carol Fey,New Rhythm Rangers', '5/16/2015,5/16/2015,Contra Dance Financial Worksheet,0,34,14,0,1,0,1,4,$9.00,$5.00,$8.00,$9.00,$20.00,Christa Torrens,Balance & Swing', '5/2/2015,5/2/2015,Contra Dance Financial Worksheet,0,0,85,26,4,0,5,0,0,$12.00,$6.00,0,\"$1,224.00\",Vikki Lawrence,Latter Day Lizards', '4-25-15 Waltz,4/25/2015,Contra Dance Financial Worksheet,0,57,10,0,1,0,0,0,$10.00,$5.00,$0.00,$10.00,$50.00,Purple Zypher,Office Max copy center', '4/18/2015,4/18/2015,Contra Dance Financial Worksheet,0,47,12,0,3,0,4,7,$9.00,$5.00,$8.00,$9.00,$13.00,Tina Fields,Eric Levine & Rodney Sauer', '4/4/2015,4/4/2015,Contra Dance Financial Worksheet,0,42,24,0,1,1,3,7,$9.00,$5.00,$8.00,$9.00,$13.00,Carol Fey,The A-1 Contraband', '3/21/2015,3/21/2015,Contra Dance Financial Worksheet,0,55,7,0,3,2,2,7,$9.00,$5.00,$8.00,$9.00,$60.00,Christa Torrens,Falcon Flight', '3/7/2015,3/7/2015,Contra Dance Financial Worksheet,0,60,34,1,3,0,12,7,$9.00,$5.00,$8.00,$9.00,$17.00,Paul Somlo,John Reading/Joel Hayes/Ed Secor', '2-28-15 Waltz,2/28/2015,Contra Dance Financial Worksheet,0,73,21,0,3,0,0,0,$10.00,$5.00,$0.00,$10.00,$35.00,Rodney Sauer,Office Max paper & toner  $14 + $31', '2/21/2015,2/21/2015,Contra Dance Financial Worksheet,0,18,7,0,2,0,1,4,$9.00,$5.00,$8.00,$9.00,$23.00,Christa Torrens,Eric Levine & Ben Cohen', '2/7/2015,2/7/2015,Contra Dance Financial Worksheet,0,52,38,0,4,4,7,6,$9.00,,,,$15.00,Ed Hall,Purple Zypher', '1/31/2015,1/31/2015,Contra Dance Financial Worksheet,0,65,46,0,2,0,5,11,$9.00,$5.00,$8.00,$9.00,$32.00,Pat Danscen,Ragged Edge', '1/17/2015,1/17/2015,Contra Dance Financial Worksheet,0,64,8,1,3,3,1,8,$9.00,$5.00,$8.00,$9.00,$27.00,Viki Lawrence,Andy Reiner & Jon Sousa', '12-31-14 NYE,31/12/2014,Contra Dance Financial Worksheet,0,82,2,1,3,0,0,6,$13.00,$6.00,$12.00,$13.00,$101.00,Susan Petrick,Ben Schreiber & Scotty Leach', '12-25-14 Holidance,25/12/2014,Contra Dance Financial Worksheet,0,25,0,0,1,0,1,7,$10.00,$5.00,$9.00,$10.00,$98.00,Vikki Lawrence & Ed Hall,Eric Levine & Ben Cohen', '12/20/2014,20/12/2014,Contra Dance Financial Worksheet,0,48,3,0,4,0,4,7,$9.00,$5.00,$8.00,$9.00,$20.00,Helle Hill,Traditional Blend', '12/6/2014,6/12/2014,Contra Dance Financial Worksheet,0,39,0,0,5,0,2,7,$9.00,$5.00,$8.00,$9.00,$24.00,Tina Fields,Louisville Sluggards', '11/29/2014,29/11/2014,Contra Dance Financial Worksheet,0,49,4,1,3,0,4,6,$9.00,$5.00,$8.00,$9.00,$28.00,Rick Smith,New Rhythm Rangers', '11-22-14 Waltz,22/11/2014,Contra Dance Financial Worksheet,0,108,15,0,0,0,0,0,$10.00,$5.00,$9.00,$10.00,$0.00,Rodney Sauer & ?,Office Max paper & toner  $14 + $30', '11/15/2014,15/11/2014,Contra Dance Financial Worksheet,0,43,10,0,4,1,3,7,$9.00,$5.00,$8.00,$9.00,$35.00,Paul Somlo,Contintenal Drift', '11/1/2014,1/11/2014,Contra Dance Financial Worksheet,0,64,12,0,1,0,3,10,$9.00,$5.00,$8.00,$9.00,$40.00,Christa Torrens,Rodney Sauer & Elizabeth Wood', '10/18/2014,18/10/2014,Contra Dance Financial Worksheet,0,60,11,0,4,0,3,0,$9.00,$5.00,$8.00,$9.00,$29.00,Rachel Shapiro,Dueling Whiskey Factor', '10-11-14 WALTZ,11/10/2014,Contra Dance Financial Worksheet,0,55,23,0,2,0,0,0,$10.00,$5.00,$9.00,$10.00,$27.00,Balance & Swing,Pixels & Press', '10-4-14 Special contra,4/10/2014,Contra Dance Financial Worksheet,0,101,15,1,2,0,4,0,$15.00,$7.00,$14.00,$15.00,$40.00,Nils Fredland (paid with band),Elixir', '9/20/2014,20/09/2014,Contra Dance Financial Worksheet,0,60,9,1,3,0,1,0,$9.00,$5.00,$8.00,$9.00,$39.00,Patricia Danscen,Contraband / Tim Macomber', '9/6/2014,6/9/2014,Contra Dance Financial Worksheet,0,46,6,1,2,0,0,0,$9.00,$5.00,$8.00,$9.00,$20.00,Viki Lawrence,Balance & Swing', '8/30/2014,30/08/2014,Contra Dance Financial Worksheet,0,65,10,0,2,2,5,0,$9.00,$5.00,$8.00,$9.00,$48.00,Rick Smith,Eric Levine & Rodney Sauer', '8/16/2014,16/08/2014,Contra Dance Financial Worksheet,0,45,1,0,4,0,3,0,$9.00,$5.00,$8.00,$9.00,$42.00,Patricia Danscen,Betsy Branch & Sue Songer', '8/2/2014,2/8/2014,Contra Dance Financial Worksheet,0,54,10,0,2,0,3,0,$9.00,$5.00,$8.00,$9.00,$47.00,Carol Fey,Grouchy Geezers', '7/19/2014,19/07/2014,Contra Dance Financial Worksheet,0,63,3,1,3,0,6,0,$9.00,$5.00,$8.00,$9.00,$61.00,Jean Gibson-Gorrindo,Celtic Spring', '7/5/2014,5/7/2014,Contra Dance Financial Worksheet,0,51,10,1,3,0,1,0,$9.00,$5.00,$8.00,$9.00,$57.00,Tina Fields,Rock It', '6/21/2014,21/06/2014,Contra Dance Financial Worksheet,0,54,5,0,5,0,0,0,$9.00,$5.00,$8.00,$9.00,$15.00,Helle Hille,Rodney & Sandra Wong', '6/7/2014,7/6/2014,Contra Dance Financial Worksheet,0,53,8,1,4,0,1,0,$9.00,$5.00,$8.00,$9.00,$34.00,Ed Hall,Purple Zephyr', '5/31/2014,31/05/2014,Contra Dance Financial Worksheet,0,59,6,1,3,1,3,0,$9.00,$5.00,$8.00,$9.00,$43.00,Paul Somlo,Ragged Edge', '5/17/2014,17/05/2014,Contra Dance Financial Worksheet,0,51,1,0,4,1,5,0,$9.00,$5.00,$8.00,$9.00,$21.00,Rick Smith,New Rhythm Rangers', '5/3/2014,3/5/2014,Contra Dance Financial Worksheet,0,71,3,1,3,0,5,0,$9.00,$5.00,$8.00,$9.00,$27.00,Viki Lawrence,Andy Reiner & Jon Sousa', '4-19-14 SPECIAL,19/04/2014,Contra Dance Financial Worksheet,0,73,6,1,2,0,2,0,$15.00,$7.00,$14.00,$15.00,\"$1,167.00\",Rick Smith,Party of Three', '4/5/2014,5/4/2014,Contra Dance Financial Worksheet,0,41,8,1,3,0,1,0,$9.00,$5.00,$8.00,$9.00,$27.00,Viki Lawrence,Tonal Vision', '3/29/2014,29/03/2014,Contra Dance Financial Worksheet,0,45,6,0,4,0,2,0,$9.00,$5.00,$8.00,$9.00,$19.00,Helle Hill,Delicate Balance', '3/15/2014,15/03/2014,Contra Dance Financial Worksheet,0,55,9,0,3,0,3,14,$9.00,$5.00,$8.00,$9.00,$43.00,Tina Fields,Grouchy Geezers', '3/1/2014,1/3/2014,Contra Dance Financial Worksheet,0,44,3,1,2,1,3,9,$9.00,$5.00,$8.00,$9.00,$42.00,Paul Somlo,Andy Reiner & Friend', '2/15/2014,15/02/2014,Contra Dance Financial Worksheet,0,75,13,0,3,1,1,10,$9.00,$5.00,$8.00,$9.00,$12.00,Viki Lawrence,Elizabeth Wood and Rodney Sauer', '2/1/2014,1/2/2014,Contra Dance Financial Worksheet,0,55,4,1,4,1,3,6,$9.00,$5.00,$8.00,$9.00,$34.00,Ed Hall,Purple Zephyr', '1/18/2014,18/01/2014,Contra Dance Financial Worksheet,0,79,9,1,2,3,5,6,$9.00,$5.00,$8.00,$9.00,$23.00,Rick Smith,Avenue X']\n"
     ]
    }
   ],
   "source": [
    "dataRDD2 = dataRDD.map(lambda x: x.split('\\r\\n'))\n",
    "print type(dataRDD2), dataRDD2\n",
    "print dataRDD2.count() \n",
    "prSomeRDD(dataRDD2,1) "
   ]
  },
  {
   "cell_type": "code",
   "execution_count": null,
   "metadata": {
    "collapsed": false
   },
   "outputs": [],
   "source": [
    "def set_hadoop_config(creds):\n",
    "\n",
    "    #Required parameter names listed in http://spark.apache.org/docs/latest/storage-openstack-swift.html\n",
    "\n",
    "    prefix = \"fs.hdfs.service.\" + 'archethought'  #some refs use creds['name'], which can be any string\n",
    "    hconf = sc._jsc.hadoopConfiguration()\n",
    "    hconf.set(prefix + \".auth.url\", r'http://172.18.0.4' )\n",
    "    hconf.set(prefix + \".username\", 'root')\n",
    "    hconf.set(prefix + \".http.port\", '9000')\n",
    "    hconf.setBoolean(prefix + \".public\", True)\n",
    "\n",
    "    #hconf.set(\"fs.hdfs.impl\", org.apache.hadoop.hdfs.DistributedFileSystem.getName());\n",
    "    #hconf.set(\"fs.file.impl\", org.apache.hadoop.fs.LocalFileSystem.getName());\n",
    "    #hconf.set(\"fs.swift.impl\", \"org.apache.hadoop.fs.swift.snative.SwiftNativeFileSystem\")\n"
   ]
  },
  {
   "cell_type": "code",
   "execution_count": null,
   "metadata": {
    "collapsed": false
   },
   "outputs": [],
   "source": [
    "# spark 2\n",
    "datafileHDFS = r'hdfs://user/root/testData/fotd.csv'\n",
    "d = sc.textFile(datafileHDFS)\n",
    "print type(d)"
   ]
  },
  {
   "cell_type": "code",
   "execution_count": null,
   "metadata": {
    "collapsed": false
   },
   "outputs": [],
   "source": [
    "d.take(1).foreach(println)"
   ]
  },
  {
   "cell_type": "code",
   "execution_count": null,
   "metadata": {
    "collapsed": true
   },
   "outputs": [],
   "source": []
  }
 ],
 "metadata": {
  "anaconda-cloud": {},
  "kernelspec": {
   "display_name": "Python 2",
   "language": "python",
   "name": "python2"
  },
  "language_info": {
   "codemirror_mode": {
    "name": "ipython",
    "version": 2
   },
   "file_extension": ".py",
   "mimetype": "text/x-python",
   "name": "python",
   "nbconvert_exporter": "python",
   "pygments_lexer": "ipython2",
   "version": "2.7.12"
  }
 },
 "nbformat": 4,
 "nbformat_minor": 0
}
