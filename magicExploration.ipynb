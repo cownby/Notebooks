{
 "cells": [
  {
   "cell_type": "markdown",
   "metadata": {},
   "source": [
    "# Exploring IPython Magic Functions\n",
    "To get this notebook running under windows, execute\n",
    "```\n",
    "jupyter notebook\n",
    "```\n",
    "on the command line. \n",
    "(Yes, I know you have to already have jupyter running to see this.)\n",
    "\n",
    "## Explore basic information\n",
    "%magic and %quickref display longish pages of very good information!\n"
   ]
  },
  {
   "cell_type": "code",
   "execution_count": 5,
   "metadata": {
    "collapsed": true
   },
   "outputs": [],
   "source": [
    "%magic"
   ]
  },
  {
   "cell_type": "code",
   "execution_count": 6,
   "metadata": {
    "collapsed": true
   },
   "outputs": [],
   "source": [
    "%quickref"
   ]
  },
  {
   "cell_type": "code",
   "execution_count": 7,
   "metadata": {
    "collapsed": false
   },
   "outputs": [
    {
     "data": {
      "application/json": {
       "cell": {
        "!": "OSMagics",
        "HTML": "Other",
        "SVG": "Other",
        "bash": "Other",
        "capture": "ExecutionMagics",
        "cmd": "Other",
        "debug": "ExecutionMagics",
        "file": "Other",
        "html": "DisplayMagics",
        "javascript": "DisplayMagics",
        "latex": "DisplayMagics",
        "perl": "Other",
        "prun": "ExecutionMagics",
        "pypy": "Other",
        "python": "Other",
        "python2": "Other",
        "python3": "Other",
        "ruby": "Other",
        "script": "ScriptMagics",
        "sh": "Other",
        "svg": "DisplayMagics",
        "sx": "OSMagics",
        "system": "OSMagics",
        "time": "ExecutionMagics",
        "timeit": "ExecutionMagics",
        "writefile": "OSMagics"
       },
       "line": {
        "alias": "OSMagics",
        "alias_magic": "BasicMagics",
        "autocall": "AutoMagics",
        "automagic": "AutoMagics",
        "autosave": "KernelMagics",
        "bookmark": "OSMagics",
        "cd": "OSMagics",
        "clear": "KernelMagics",
        "cls": "KernelMagics",
        "colors": "BasicMagics",
        "config": "ConfigMagics",
        "connect_info": "KernelMagics",
        "copy": "Other",
        "ddir": "Other",
        "debug": "ExecutionMagics",
        "dhist": "OSMagics",
        "dirs": "OSMagics",
        "doctest_mode": "BasicMagics",
        "echo": "Other",
        "ed": "Other",
        "edit": "KernelMagics",
        "env": "OSMagics",
        "gui": "BasicMagics",
        "hist": "Other",
        "history": "HistoryMagics",
        "install_default_config": "DeprecatedMagics",
        "install_ext": "ExtensionMagics",
        "install_profiles": "DeprecatedMagics",
        "killbgscripts": "ScriptMagics",
        "ldir": "Other",
        "less": "KernelMagics",
        "load": "CodeMagics",
        "load_ext": "ExtensionMagics",
        "loadpy": "CodeMagics",
        "logoff": "LoggingMagics",
        "logon": "LoggingMagics",
        "logstart": "LoggingMagics",
        "logstate": "LoggingMagics",
        "logstop": "LoggingMagics",
        "ls": "Other",
        "lsmagic": "BasicMagics",
        "macro": "ExecutionMagics",
        "magic": "BasicMagics",
        "matplotlib": "PylabMagics",
        "mkdir": "Other",
        "more": "KernelMagics",
        "notebook": "BasicMagics",
        "page": "BasicMagics",
        "pastebin": "CodeMagics",
        "pdb": "ExecutionMagics",
        "pdef": "NamespaceMagics",
        "pdoc": "NamespaceMagics",
        "pfile": "NamespaceMagics",
        "pinfo": "NamespaceMagics",
        "pinfo2": "NamespaceMagics",
        "popd": "OSMagics",
        "pprint": "BasicMagics",
        "precision": "BasicMagics",
        "profile": "BasicMagics",
        "prun": "ExecutionMagics",
        "psearch": "NamespaceMagics",
        "psource": "NamespaceMagics",
        "pushd": "OSMagics",
        "pwd": "OSMagics",
        "pycat": "OSMagics",
        "pylab": "PylabMagics",
        "qtconsole": "KernelMagics",
        "quickref": "BasicMagics",
        "recall": "HistoryMagics",
        "rehashx": "OSMagics",
        "reload_ext": "ExtensionMagics",
        "ren": "Other",
        "rep": "Other",
        "rerun": "HistoryMagics",
        "reset": "NamespaceMagics",
        "reset_selective": "NamespaceMagics",
        "rmdir": "Other",
        "run": "ExecutionMagics",
        "save": "CodeMagics",
        "sc": "OSMagics",
        "set_env": "OSMagics",
        "store": "StoreMagics",
        "sx": "OSMagics",
        "system": "OSMagics",
        "tb": "ExecutionMagics",
        "time": "ExecutionMagics",
        "timeit": "ExecutionMagics",
        "unalias": "OSMagics",
        "unload_ext": "ExtensionMagics",
        "who": "NamespaceMagics",
        "who_ls": "NamespaceMagics",
        "whos": "NamespaceMagics",
        "xdel": "NamespaceMagics",
        "xmode": "BasicMagics"
       }
      },
      "text/plain": [
       "Available line magics:\n",
       "%alias  %alias_magic  %autocall  %automagic  %autosave  %bookmark  %cd  %clear  %cls  %colors  %config  %connect_info  %copy  %ddir  %debug  %dhist  %dirs  %doctest_mode  %echo  %ed  %edit  %env  %gui  %hist  %history  %install_default_config  %install_ext  %install_profiles  %killbgscripts  %ldir  %less  %load  %load_ext  %loadpy  %logoff  %logon  %logstart  %logstate  %logstop  %ls  %lsmagic  %macro  %magic  %matplotlib  %mkdir  %more  %notebook  %page  %pastebin  %pdb  %pdef  %pdoc  %pfile  %pinfo  %pinfo2  %popd  %pprint  %precision  %profile  %prun  %psearch  %psource  %pushd  %pwd  %pycat  %pylab  %qtconsole  %quickref  %recall  %rehashx  %reload_ext  %ren  %rep  %rerun  %reset  %reset_selective  %rmdir  %run  %save  %sc  %set_env  %store  %sx  %system  %tb  %time  %timeit  %unalias  %unload_ext  %who  %who_ls  %whos  %xdel  %xmode\n",
       "\n",
       "Available cell magics:\n",
       "%%!  %%HTML  %%SVG  %%bash  %%capture  %%cmd  %%debug  %%file  %%html  %%javascript  %%latex  %%perl  %%prun  %%pypy  %%python  %%python2  %%python3  %%ruby  %%script  %%sh  %%svg  %%sx  %%system  %%time  %%timeit  %%writefile\n",
       "\n",
       "Automagic is ON, % prefix IS NOT needed for line magics."
      ]
     },
     "execution_count": 7,
     "metadata": {},
     "output_type": "execute_result"
    }
   ],
   "source": [
    "#list available line & cell magics\n",
    "% lsmagic"
   ]
  },
  {
   "cell_type": "code",
   "execution_count": 8,
   "metadata": {
    "collapsed": false
   },
   "outputs": [
    {
     "name": "stdout",
     "output_type": "stream",
     "text": [
      "Total number of aliases: 8\n"
     ]
    },
    {
     "data": {
      "text/plain": [
       "[('copy', 'copy'),\n",
       " ('ddir', 'dir /ad /on'),\n",
       " ('echo', 'echo'),\n",
       " ('ldir', 'dir /ad /on'),\n",
       " ('ls', 'dir /on'),\n",
       " ('mkdir', 'mkdir'),\n",
       " ('ren', 'ren'),\n",
       " ('rmdir', 'rmdir')]"
      ]
     },
     "execution_count": 8,
     "metadata": {},
     "output_type": "execute_result"
    }
   ],
   "source": [
    "#list aliases\n",
    "%alias"
   ]
  },
  {
   "cell_type": "markdown",
   "metadata": {},
   "source": [
    "## Profile, Configuration, & Packages\n",
    "\n",
    "* %unload_ext / %load_ext\n",
    "    Unload/Load an IPython extension by its module name.\n",
    "* %reload_ext"
   ]
  },
  {
   "cell_type": "code",
   "execution_count": 9,
   "metadata": {
    "collapsed": false
   },
   "outputs": [
    {
     "name": "stdout",
     "output_type": "stream",
     "text": [
      "Available objects for config:\n",
      "     ZMQInteractiveShell\n",
      "     HistoryManager\n",
      "     PrefilterManager\n",
      "     IPCompleter\n",
      "     PromptManager\n",
      "     DisplayFormatter\n",
      "     MagicsManager\n",
      "     ScriptMagics\n",
      "     AliasManager\n",
      "     IPKernelApp\n",
      "     StoreMagics\n",
      "     StoreMagics\n",
      "DisplayFormatter options\n",
      "----------------------\n",
      "DisplayFormatter.active_types=<List>\n",
      "    Current: [u'text/plain', u'image/jpeg', u'text/html', u'image/svg+xml', u'image/png', u'application/javascript', u'text/markdown', u'text/latex', u'application/json', u'application/pdf']\n",
      "    List of currently active mime-types to display. You can use this to set a\n",
      "    white-list for formats to display.\n",
      "    Most users will not need to change this value.\n",
      "DisplayFormatter.plain_text_only=<Bool>\n",
      "    Current: False\n"
     ]
    }
   ],
   "source": [
    "#exposes most of the IPython config system.\n",
    "%config\n",
    "\n",
    "# what could I do with DisplayFormatter?\n",
    "%config DisplayFormatter"
   ]
  },
  {
   "cell_type": "code",
   "execution_count": 10,
   "metadata": {
    "collapsed": false
   },
   "outputs": [
    {
     "name": "stdout",
     "output_type": "stream",
     "text": [
      "default\n"
     ]
    },
    {
     "name": "stderr",
     "output_type": "stream",
     "text": [
      "WARNING: %profile is now deprecated. Please use get_ipython().profile instead.\n"
     ]
    },
    {
     "data": {
      "text/plain": [
       "u'default'"
      ]
     },
     "execution_count": 10,
     "metadata": {},
     "output_type": "execute_result"
    }
   ],
   "source": [
    "# my profile\n",
    "%profile  #is out of date\n",
    "get_ipython().profile"
   ]
  },
  {
   "cell_type": "code",
   "execution_count": 11,
   "metadata": {
    "collapsed": false
   },
   "outputs": [
    {
     "data": {
      "text/plain": [
       "{'ALLUSERSPROFILE': 'C:\\\\ProgramData',\n",
       " 'APPDATA': 'C:\\\\Users\\\\COwnby\\\\AppData\\\\Roaming',\n",
       " 'CLICOLOR': '1',\n",
       " 'COMMONPROGRAMFILES': 'C:\\\\Program Files\\\\Common Files',\n",
       " 'COMMONPROGRAMFILES(X86)': 'C:\\\\Program Files (x86)\\\\Common Files',\n",
       " 'COMMONPROGRAMW6432': 'C:\\\\Program Files\\\\Common Files',\n",
       " 'COMPUTERNAME': 'DELL-E6420',\n",
       " 'COMSPEC': 'C:\\\\WINDOWS\\\\system32\\\\cmd.exe',\n",
       " 'EDITOR': 'GitPad',\n",
       " 'FP_NO_HOST_CHECK': 'NO',\n",
       " 'GITHUB_GIT': 'C:\\\\Users\\\\COwnby\\\\AppData\\\\Local\\\\GitHub\\\\PortableGit_c2ba306e536fdf878271f7fe636a147ff37326ad',\n",
       " 'GITHUB_POSH_GIT': 'C:\\\\Users\\\\COwnby\\\\AppData\\\\Local\\\\GitHub\\\\PoshGit_869d4c5159797755bc04749db47b166136e59132',\n",
       " 'GITHUB_SHELL': 'true',\n",
       " 'GIT_INSTALL_ROOT': 'C:\\\\Users\\\\COwnby\\\\AppData\\\\Local\\\\GitHub\\\\PortableGit_c2ba306e536fdf878271f7fe636a147ff37326ad',\n",
       " 'GIT_PAGER': 'cat',\n",
       " 'HOME': 'C:\\\\Users\\\\COwnby',\n",
       " 'HOMEDRIVE': 'C:',\n",
       " 'HOMEPATH': '\\\\Users\\\\COwnby',\n",
       " 'IPY_INTERRUPT_EVENT': '1692',\n",
       " 'JPY_INTERRUPT_EVENT': '1692',\n",
       " 'JPY_PARENT_PID': '1748',\n",
       " 'LOCALAPPDATA': 'C:\\\\Users\\\\COwnby\\\\AppData\\\\Local',\n",
       " 'LOGONSERVER': '\\\\\\\\DELL-E6420',\n",
       " 'NUMBER_OF_PROCESSORS': '4',\n",
       " 'OS': 'Windows_NT',\n",
       " 'PAGER': 'cat',\n",
       " 'PATH': 'C:\\\\Users\\\\COwnby\\\\Anaconda2\\\\Library\\\\bin;C:\\\\Users\\\\COwnby\\\\Anaconda2\\\\Library\\\\bin;C:\\\\Users\\\\COwnby\\\\Anaconda2\\\\Library\\\\bin;C:\\\\Users\\\\COwnby\\\\AppData\\\\Local\\\\GitHub\\\\PortableGit_c2ba306e536fdf878271f7fe636a147ff37326ad\\\\cmd;C:\\\\Users\\\\COwnby\\\\AppData\\\\Local\\\\GitHub\\\\PortableGit_c2ba306e536fdf878271f7fe636a147ff37326ad\\\\bin;C:\\\\Users\\\\COwnby\\\\AppData\\\\Local\\\\Apps\\\\2.0\\\\O2AP0RAA.W86\\\\PXB80RX9.74Y\\\\gith..tion_317444273a93ac29_0003.0000_12384c781d7f8ad4;C:\\\\Users\\\\COwnby\\\\AppData\\\\Local\\\\GitHub\\\\lfs-amd64_1.0.2;C:\\\\WINDOWS\\\\Microsoft.NET\\\\Framework\\\\v4.0.30319;C:\\\\Program Files\\\\Common Files\\\\Microsoft Shared\\\\Windows Live;C:\\\\Program Files (x86)\\\\Common Files\\\\Microsoft Shared\\\\Windows Live;C:\\\\WINDOWS\\\\system32;C:\\\\WINDOWS;C:\\\\WINDOWS\\\\System32\\\\Wbem;C:\\\\WINDOWS\\\\System32\\\\WindowsPowerShell\\\\v1.0\\\\;C:\\\\Program Files\\\\Intel\\\\WiFi\\\\bin\\\\;C:\\\\Program Files\\\\Common Files\\\\Intel\\\\WirelessCommon\\\\;C:\\\\Program Files (x86)\\\\Intel\\\\OpenCL SDK\\\\2.0\\\\bin\\\\x86;C:\\\\Program Files (x86)\\\\Intel\\\\OpenCL SDK\\\\2.0\\\\bin\\\\x64;c:\\\\Program Files (x86)\\\\Microsoft SQL Server\\\\100\\\\Tools\\\\Binn\\\\;c:\\\\Program Files\\\\Microsoft SQL Server\\\\100\\\\Tools\\\\Binn\\\\;c:\\\\Program Files\\\\Microsoft SQL Server\\\\100\\\\DTS\\\\Binn\\\\;C:\\\\bin;c:\\\\xampp\\\\php;C:\\\\ProgramData\\\\ComposerSetup\\\\bin;C:\\\\HashiCorp\\\\Vagrant\\\\bin;C:\\\\Program Files (x86)\\\\Windows Live\\\\Shared;C:\\\\Program Files (x86)\\\\Skype\\\\Phone\\\\;C:\\\\Users\\\\COwnby\\\\Anaconda2;C:\\\\Users\\\\COwnby\\\\Anaconda2\\\\Scripts;C:\\\\Users\\\\COwnby\\\\Anaconda2\\\\Library\\\\bin',\n",
       " 'PATHEXT': '.COM;.EXE;.BAT;.CMD;.VBS;.VBE;.JS;.JSE;.WSF;.WSH;.MSC;.CPL',\n",
       " 'PHP_PEAR_BIN_DIR': 'C:\\\\xampp\\\\php',\n",
       " 'PHP_PEAR_DATA_DIR': 'C:\\\\xampp\\\\php\\\\data',\n",
       " 'PHP_PEAR_DOC_DIR': 'C:\\\\xampp\\\\php\\\\docs',\n",
       " 'PHP_PEAR_INSTALL_DIR': 'C:\\\\xampp\\\\php\\\\pear',\n",
       " 'PHP_PEAR_PHP_BIN': '.\\\\php.exe',\n",
       " 'PHP_PEAR_SYSCONF_DIR': 'C:\\\\xampp\\\\php',\n",
       " 'PHP_PEAR_TEST_DIR': 'C:\\\\xampp\\\\php\\\\tests',\n",
       " 'PLINK_PROTOCOL': 'ssh',\n",
       " 'POSH_GIT': 'C:\\\\Users\\\\COwnby\\\\AppData\\\\Local\\\\GitHub\\\\PoshGit_869d4c5159797755bc04749db47b166136e59132\\\\profile.example.ps1',\n",
       " 'PROCESSOR_ARCHITECTURE': 'AMD64',\n",
       " 'PROCESSOR_IDENTIFIER': 'Intel64 Family 6 Model 42 Stepping 7, GenuineIntel',\n",
       " 'PROCESSOR_LEVEL': '6',\n",
       " 'PROCESSOR_REVISION': '2a07',\n",
       " 'PROGRAMDATA': 'C:\\\\ProgramData',\n",
       " 'PROGRAMFILES': 'C:\\\\Program Files',\n",
       " 'PROGRAMFILES(X86)': 'C:\\\\Program Files (x86)',\n",
       " 'PROGRAMW6432': 'C:\\\\Program Files',\n",
       " 'PROMPT': '$P$G',\n",
       " 'PSEXECUTIONPOLICYPREFERENCE': 'Unrestricted',\n",
       " 'PSMODULEPATH': 'C:\\\\Users\\\\COwnby\\\\Documents\\\\WindowsPowerShell\\\\Modules;C:\\\\Program Files (x86)\\\\WindowsPowerShell\\\\Modules;C:\\\\WINDOWS\\\\system32\\\\WindowsPowerShell\\\\v1.0\\\\Modules\\\\',\n",
       " 'PUBLIC': 'C:\\\\Users\\\\Public',\n",
       " 'SESSIONNAME': 'Console',\n",
       " 'SSH_AGENT_PID': '232',\n",
       " 'SSH_AUTH_SOCK': '/tmp/ssh-pPkYAoZ6E3eP/agent.8996',\n",
       " 'SYSTEMDRIVE': 'C:',\n",
       " 'SYSTEMROOT': 'C:\\\\WINDOWS',\n",
       " 'TCL_LIBRARY': 'C:\\\\Users\\\\COwnby\\\\Anaconda2\\\\tcl\\\\tcl8.5',\n",
       " 'TEMP': 'C:\\\\Users\\\\COwnby\\\\AppData\\\\Local\\\\Temp\\\\',\n",
       " 'TERM': 'xterm-color',\n",
       " 'TIX_LIBRARY': 'C:\\\\Users\\\\COwnby\\\\Anaconda2\\\\tcl\\\\tix8.4.3',\n",
       " 'TK_LIBRARY': 'C:\\\\Users\\\\COwnby\\\\Anaconda2\\\\tcl\\\\tk8.5',\n",
       " 'TMP': 'C:\\\\Users\\\\COwnby\\\\AppData\\\\Local\\\\Temp\\\\',\n",
       " 'USERDOMAIN': 'DELL-E6420',\n",
       " 'USERDOMAIN_ROAMINGPROFILE': 'DELL-E6420',\n",
       " 'USERNAME': 'COwnby',\n",
       " 'USERPROFILE': 'C:\\\\Users\\\\COwnby',\n",
       " 'VBOX_MSI_INSTALL_PATH': 'C:\\\\Program Files\\\\Oracle\\\\VirtualBox\\\\',\n",
       " 'VS100COMNTOOLS': 'C:\\\\Program Files (x86)\\\\Microsoft Visual Studio 10.0\\\\Common7\\\\Tools\\\\',\n",
       " 'WINDIR': 'C:\\\\WINDOWS',\n",
       " 'WINDOWS_TRACING_FLAGS': '3',\n",
       " 'WINDOWS_TRACING_LOGFILE': 'C:\\\\BVTBin\\\\Tests\\\\installpackage\\\\csilogfile.log'}"
      ]
     },
     "execution_count": 11,
     "metadata": {},
     "output_type": "execute_result"
    }
   ],
   "source": [
    "%env\n",
    "#interesting that I cannot access the path variable in a later example. It must be a windows thing."
   ]
  },
  {
   "cell_type": "markdown",
   "metadata": {},
   "source": [
    "## Debugging & Logging\n",
    "\n",
    "* %pdb: python debugger: toggle on/off\n",
    "* %qtconsole:\n",
    "    Open a qtconsole connected to this kernel. (something for debugging)\n",
    "* %tb: Print the last traceback with the currently active exception mode.\n",
    "* %%prun:\n",
    "    Run a statement through the python code profiler."
   ]
  },
  {
   "cell_type": "code",
   "execution_count": 12,
   "metadata": {
    "collapsed": false
   },
   "outputs": [
    {
     "name": "stdout",
     "output_type": "stream",
     "text": [
      "Logging has not been activated.\n"
     ]
    }
   ],
   "source": [
    "# Logging\n",
    "# %logstart\n",
    "# %logstop\n",
    "%logstate"
   ]
  },
  {
   "cell_type": "markdown",
   "metadata": {},
   "source": [
    "# call signature, documentation, & finding stuff\n",
    "\n",
    "* %pdb:\n",
    "    Control the automatic calling of the pdb interactive debugger.\n",
    "* %pdef:\n",
    "    Print the call signature for any callable object.\n",
    "* %pdoc:\n",
    "    Print the docstring for an object.\n",
    "\n",
    "* %psearch:\n",
    "    Search for object in namespaces by wildcard.\n",
    "    \n",
    "* %pinfo:\n",
    "    Provide detailed information about an object.\n",
    "    '%pinfo object' is just a synonym for object? or ?object.\n",
    "* %pinfo2:\n",
    "    Provide extra detailed information about an object."
   ]
  },
  {
   "cell_type": "code",
   "execution_count": null,
   "metadata": {
    "collapsed": false
   },
   "outputs": [],
   "source": []
  },
  {
   "cell_type": "markdown",
   "metadata": {},
   "source": [
    "## Other Interesting stuff\n",
    "\n",
    "* %rehashx:\n",
    "    Update the alias table with all executable files in $PATH\n",
    "* %reset: reset namespace\n",
    "* %who_ls: Return a sorted list of all interactive variables.\n",
    "* %store: Lightweight persistence for python variables"
   ]
  },
  {
   "cell_type": "code",
   "execution_count": 13,
   "metadata": {
    "collapsed": false
   },
   "outputs": [
    {
     "data": {
      "text/plain": [
       "['x']"
      ]
     },
     "execution_count": 13,
     "metadata": {},
     "output_type": "execute_result"
    }
   ],
   "source": [
    "x='nothing in particular'\n",
    "%who_ls\n",
    "# who_ls doesn't list anything when merged with the cell below. I.e., with %store after it."
   ]
  },
  {
   "cell_type": "code",
   "execution_count": 14,
   "metadata": {
    "collapsed": false
   },
   "outputs": [
    {
     "name": "stdout",
     "output_type": "stream",
     "text": [
      "Stored 'x' (str)\n",
      "Stored variables and their in-db values:\n",
      "x             -> 'nothing in particular'\n"
     ]
    }
   ],
   "source": [
    "%store x\n",
    "%store"
   ]
  },
  {
   "cell_type": "markdown",
   "metadata": {},
   "source": [
    "## Generate some data\n",
    "Good examples: https://dzone.com/articles/python-create-fake-data-faker\n",
    "\n",
    "Faker documentation: http://faker.readthedocs.io/en/master/"
   ]
  },
  {
   "cell_type": "code",
   "execution_count": 15,
   "metadata": {
    "collapsed": false
   },
   "outputs": [
    {
     "name": "stdout",
     "output_type": "stream",
     "text": [
      "Requirement already satisfied (use --upgrade to upgrade): fake-factory in c:\\users\\cownby\\anaconda2\\lib\\site-packages\n",
      "Requirement already satisfied (use --upgrade to upgrade): python-dateutil>=2.4 in c:\\users\\cownby\\anaconda2\\lib\\site-packages (from fake-factory)\n",
      "Requirement already satisfied (use --upgrade to upgrade): six in c:\\users\\cownby\\anaconda2\\lib\\site-packages (from fake-factory)\n",
      "Requirement already satisfied (use --upgrade to upgrade): ipaddress; python_version == \"2.7\" in c:\\users\\cownby\\anaconda2\\lib\\site-packages (from fake-factory)\n"
     ]
    }
   ],
   "source": [
    "#%sc did not work, which is a synonym for !, nor did I see a way to use %install_ext\n",
    "!pip install fake-factory  "
   ]
  },
  {
   "cell_type": "code",
   "execution_count": 16,
   "metadata": {
    "collapsed": false
   },
   "outputs": [
    {
     "data": {
      "text/plain": [
       "u'Lisa Williamson'"
      ]
     },
     "execution_count": 16,
     "metadata": {},
     "output_type": "execute_result"
    }
   ],
   "source": [
    "from faker import Faker\n",
    "fake = Faker()\n",
    "fake.name()"
   ]
  },
  {
   "cell_type": "code",
   "execution_count": 17,
   "metadata": {
    "collapsed": false
   },
   "outputs": [
    {
     "name": "stdout",
     "output_type": "stream",
     "text": [
      " \u001b[0mFaker\u001b[0m\u001b[1;33m(\u001b[0m\u001b[0mlocale\u001b[0m\u001b[1;33m=\u001b[0m\u001b[0mNone\u001b[0m\u001b[1;33m,\u001b[0m \u001b[0mproviders\u001b[0m\u001b[1;33m=\u001b[0m\u001b[0mNone\u001b[0m\u001b[1;33m,\u001b[0m \u001b[0mgenerator\u001b[0m\u001b[1;33m=\u001b[0m\u001b[0mNone\u001b[0m\u001b[1;33m,\u001b[0m \u001b[0mincludes\u001b[0m\u001b[1;33m=\u001b[0m\u001b[0mNone\u001b[0m\u001b[1;33m,\u001b[0m \u001b[1;33m**\u001b[0m\u001b[0mconfig\u001b[0m\u001b[1;33m)\u001b[0m\u001b[1;33m\u001b[0m\u001b[0m\n",
      "  \u001b[0mfake\u001b[0m\u001b[1;33m.\u001b[0m\u001b[0mname\u001b[0m\u001b[1;33m(\u001b[0m\u001b[1;33m)\u001b[0m\u001b[1;33m\u001b[0m\u001b[0m\n",
      " "
     ]
    }
   ],
   "source": [
    "%pdef Faker\n",
    "#pdef fake  #Object is not callable.\n",
    "%pdef fake.name\n",
    "%pinfo fake.name"
   ]
  },
  {
   "cell_type": "code",
   "execution_count": 18,
   "metadata": {
    "collapsed": false
   },
   "outputs": [],
   "source": [
    "import random\n",
    "listA = random.sample(range(1, 100), 25)\n",
    "listB = random.sample(range(1, 100), 25)\n",
    "listOfMonths = [random.randrange(1,12,1) for _ in range (25)]\n",
    "#display(listA,listOfMonths)\n",
    "listOfMonths.sort()\n",
    "#print \"sorted list \",listOfMonths"
   ]
  },
  {
   "cell_type": "markdown",
   "metadata": {},
   "source": [
    "## Visualization\n",
    "\n",
    "* %%svg:\n",
    "    Render the cell as an SVG literal.  Scalable Vector Graphics (SVG) is an XML-based vector image format for two-dimensional graphics with support for interactivity and animation.\n",
    "    \n",
    "* %pylab: is apparently not recommended/deprecated https://github.com/ipython/ipython/issues/5071/\n",
    "```\n",
    "        %pylab makes the following imports::\n",
    "    \n",
    "        import numpy\n",
    "        import matplotlib\n",
    "        from matplotlib import pylab, mlab, pyplot\n",
    "        np = numpy\n",
    "        plt = pyplot\n",
    "    \n",
    "        from IPython.display import display\n",
    "        from IPython.core.pylabtools import figsize, getfigs\n",
    "    \n",
    "        from pylab import *\n",
    "        from numpy import *\n",
    "```"
   ]
  },
  {
   "cell_type": "code",
   "execution_count": 19,
   "metadata": {
    "collapsed": false
   },
   "outputs": [
    {
     "name": "stdout",
     "output_type": "stream",
     "text": [
      "Using matplotlib backend: Qt4Agg\n",
      "Populating the interactive namespace from numpy and matplotlib\n"
     ]
    },
    {
     "name": "stderr",
     "output_type": "stream",
     "text": [
      "WARNING: pylab import has clobbered these variables: ['random']\n",
      "`%matplotlib` prevents importing * from pylab and numpy\n"
     ]
    }
   ],
   "source": [
    "# one-stop setup for visualization\n",
    "%pylab \n",
    "\n",
    "# Turns out that this is not recommended, but not quite deprecated. The warning below is supposed to tell me that. NOT!"
   ]
  },
  {
   "cell_type": "code",
   "execution_count": null,
   "metadata": {
    "collapsed": false
   },
   "outputs": [],
   "source": [
    "month_map = {\n",
    "  'Jan': 1, 'Feb': 2, 'Mar':3, 'Apr':4, 'May':5, 'Jun':6, 'Jul':7,\n",
    "  'Aug':8,  'Sep': 9, 'Oct':10, 'Nov': 11, 'Dec': 12\n",
    "}\n",
    "display(month_map)\n"
   ]
  },
  {
   "cell_type": "code",
   "execution_count": null,
   "metadata": {
    "collapsed": false
   },
   "outputs": [],
   "source": [
    "%matplotlib inline\n",
    "\n",
    "import matplotlib.pyplot as plt\n",
    "#plt.plot(listOfMonths,listA)\n",
    "plt.scatter(listA,listB)\n",
    "plt.show()\n",
    "plt.bar(listOfMonths,listA,color='cyan')\n",
    "plt.show()\n",
    "\n",
    "plt.plot(listOfMonths,listA)\n",
    "#plt.plot(listOfMonths,listB)\n",
    "plt.show()\n",
    "#%pdoc plt.bar"
   ]
  },
  {
   "cell_type": "code",
   "execution_count": null,
   "metadata": {
    "collapsed": false
   },
   "outputs": [],
   "source": [
    "%%svg\n",
    "<!--\n",
    "## note that html is ignored\n",
    "-->\n",
    "<html>\n",
    "<body>\n",
    "\n",
    "<h1>My first SVG</h1>\n",
    "\n",
    "<svg width=\"100\" height=\"100\">\n",
    "  <circle cx=\"50\" cy=\"50\" r=\"40\" stroke=\"green\" stroke-width=\"4\" fill=\"yellow\" />\n",
    "</svg>\n",
    "\n",
    "</body>\n",
    "</html>"
   ]
  },
  {
   "cell_type": "code",
   "execution_count": null,
   "metadata": {
    "collapsed": false
   },
   "outputs": [],
   "source": [
    "%%svg\n",
    "<!--\n",
    "# searched briefly for a way to make this modifyable without avail.\n",
    "# cx1 = \"240\"\n",
    "-->\n",
    "\n",
    "<svg height=\"150\" width=\"500\">\n",
    "  <ellipse cx=\"240\" cy=\"100\" rx=\"220\" ry=\"30\" style=\"fill:purple\" />\n",
    "  <ellipse cx=\"220\" cy=\"70\" rx=\"190\" ry=\"20\" style=\"fill:lime\" />\n",
    "  <ellipse cx=\"210\" cy=\"45\" rx=\"170\" ry=\"15\" style=\"fill:yellow\" />\n",
    "</svg>\n"
   ]
  },
  {
   "cell_type": "markdown",
   "metadata": {},
   "source": [
    "## Explore a few use cases"
   ]
  },
  {
   "cell_type": "code",
   "execution_count": null,
   "metadata": {
    "collapsed": true
   },
   "outputs": [],
   "source": [
    "%alias bracket echo \"Input in brackets: <%l>\"\n",
    "%bracket howdy"
   ]
  },
  {
   "cell_type": "code",
   "execution_count": null,
   "metadata": {
    "collapsed": true
   },
   "outputs": [],
   "source": [
    "%colors LightBG \n",
    "# nocolor\n",
    "# Appears to have no effect, even at the console"
   ]
  },
  {
   "cell_type": "code",
   "execution_count": null,
   "metadata": {
    "collapsed": false
   },
   "outputs": [],
   "source": [
    "%%HTML\n",
    "# HTML 5 template from online somewhere - isn't necessary\n",
    "\n",
    "<!doctype html>\n",
    "\n",
    "<html lang=\"en\">\n",
    "<head>\n",
    "  <meta charset=\"utf-8\">\n",
    "\n",
    "  <title>The HTML5 Herald</title>\n",
    "  <meta name=\"description\" content=\"The HTML5 Herald\">\n",
    "  <meta name=\"author\" content=\"SitePoint\">\n",
    "\n",
    "  <link rel=\"stylesheet\" href=\"css/styles.css?v=1.0\">\n",
    "\n",
    "  <!--[if lt IE 9]>\n",
    "    <script src=\"http://html5shiv.googlecode.com/svn/trunk/html5.js\"></script>\n",
    "  <![endif]-->\n",
    "</head>\n",
    "\n",
    "<body>\n",
    "  <script src=\"js/scripts.js\"></script>\n",
    "    \n",
    "    <h1> smart cows moo longer </h1>\n",
    "    \n",
    "</body>\n",
    "</html>"
   ]
  },
  {
   "cell_type": "code",
   "execution_count": null,
   "metadata": {
    "collapsed": false
   },
   "outputs": [],
   "source": [
    "%%HTML\n",
    "# HTML snippit is ok\n",
    "    <h1> smart cows moo longer </h1>\n"
   ]
  },
  {
   "cell_type": "code",
   "execution_count": null,
   "metadata": {
    "collapsed": false
   },
   "outputs": [],
   "source": [
    "# Not working as in %magic documentation, likely because am on top of windows,\n",
    "# running from github/power shell where neither $PATH nor %PATH% are defined.\n",
    "\n",
    "%alias show echo\n",
    "PATH='A Python string'\n",
    "%show $PATH\n",
    "%show $$PATH\n",
    "#print $PATH\n",
    "#print $$PATH"
   ]
  },
  {
   "cell_type": "code",
   "execution_count": null,
   "metadata": {
    "collapsed": true
   },
   "outputs": [],
   "source": [
    "display(image(filename=\"C:\\Users\\COwnby\\Pictures\\ByYear\\2015\\DSC_1389-req10.jpg\"))"
   ]
  }
 ],
 "metadata": {
  "anaconda-cloud": {},
  "kernelspec": {
   "display_name": "Python [Root]",
   "language": "python",
   "name": "Python [Root]"
  },
  "language_info": {
   "codemirror_mode": {
    "name": "ipython",
    "version": 2
   },
   "file_extension": ".py",
   "mimetype": "text/x-python",
   "name": "python",
   "nbconvert_exporter": "python",
   "pygments_lexer": "ipython2",
   "version": "2.7.12"
  }
 },
 "nbformat": 4,
 "nbformat_minor": 0
}
